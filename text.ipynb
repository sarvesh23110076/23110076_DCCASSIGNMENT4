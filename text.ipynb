{
 "cells": [
  {
   "cell_type": "code",
   "execution_count": 1,
   "metadata": {},
   "outputs": [],
   "source": [
    "import pandas as pd"
   ]
  },
  {
   "cell_type": "code",
   "execution_count": 10,
   "metadata": {},
   "outputs": [],
   "source": [
    "data=pd.read_csv(\"data1.csv\")\n",
    "data=list(data[\"Name of the Political Party\"].unique())\n",
    "data.sort()\n",
    "files=open(\"text1.txt\",\"w\")\n",
    "for i in data:\n",
    "    files.write(f\"<option value='{i}'>{i}</option>\"+'\\n')\n",
    "files.close()"
   ]
  },
  {
   "cell_type": "code",
   "execution_count": 12,
   "metadata": {},
   "outputs": [],
   "source": [
    "data=pd.read_csv(\"data1.csv\")\n",
    "data=list(data[\"Prefix\"].unique())\n",
    "data.sort()\n",
    "files=open(\"text2.txt\",\"w\")\n",
    "for i in data:\n",
    "    files.write(f\"<option value='{i}'>{i}</option>\"+'\\n')\n",
    "files.close()"
   ]
  },
  {
   "cell_type": "code",
   "execution_count": 14,
   "metadata": {},
   "outputs": [],
   "source": [
    "data=pd.read_csv(\"data2.csv\")\n",
    "data=list(data[\"Name of the Purchaser\"].unique())\n",
    "data.sort()\n",
    "files=open(\"text3.txt\",\"w\")\n",
    "for i in data:\n",
    "    files.write(f\"<option value='{i}'>{i}</option>\"+'\\n')\n",
    "files.close()"
   ]
  },
  {
   "cell_type": "code",
   "execution_count": null,
   "metadata": {},
   "outputs": [],
   "source": []
  }
 ],
 "metadata": {
  "kernelspec": {
   "display_name": "Python 3",
   "language": "python",
   "name": "python3"
  },
  "language_info": {
   "codemirror_mode": {
    "name": "ipython",
    "version": 3
   },
   "file_extension": ".py",
   "mimetype": "text/x-python",
   "name": "python",
   "nbconvert_exporter": "python",
   "pygments_lexer": "ipython3",
   "version": "3.12.0"
  }
 },
 "nbformat": 4,
 "nbformat_minor": 2
}
