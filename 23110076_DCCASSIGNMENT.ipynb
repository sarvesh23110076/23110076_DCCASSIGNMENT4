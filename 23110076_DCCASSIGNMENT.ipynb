{
  "cells": [
    {
      "cell_type": "code",
      "execution_count": 1,
      "metadata": {
        "colab": {
          "base_uri": "https://localhost:8080/"
        },
        "id": "DHAH_xKoEDqd",
        "outputId": "1c9751ec-5254-41d9-853b-20f9e89b8d3f"
      },
      "outputs": [
        {
          "name": "stdout",
          "output_type": "stream",
          "text": [
            "Requirement already satisfied: PyMuPDF in c:\\users\\sarvesh\\appdata\\local\\programs\\python\\python312\\lib\\site-packages (1.24.1)"
          ]
        },
        {
          "name": "stderr",
          "output_type": "stream",
          "text": [
            "\n",
            "[notice] A new release of pip is available: 23.2.1 -> 24.0\n",
            "[notice] To update, run: python.exe -m pip install --upgrade pip\n"
          ]
        },
        {
          "name": "stdout",
          "output_type": "stream",
          "text": [
            "\n",
            "Requirement already satisfied: PyMuPDFb==1.24.1 in c:\\users\\sarvesh\\appdata\\local\\programs\\python\\python312\\lib\\site-packages (from PyMuPDF) (1.24.1)\n"
          ]
        }
      ],
      "source": [
        "! pip install PyMuPDF"
      ]
    },
    {
      "cell_type": "code",
      "execution_count": 2,
      "metadata": {
        "id": "Rukmaf_MG4Bk"
      },
      "outputs": [],
      "source": [
        "import fitz\n",
        "import pandas as pd\n",
        "\n",
        "document=fitz.open(\"c7LQzRZ5KR.pdf\")\n",
        "\n",
        "text=document[0].find_tables()[0].extract()\n",
        "columns=text[0]\n",
        "\n",
        "data=[[] for i in range(len(columns))]\n",
        "i=0\n",
        "while i<len(document):\n",
        "  text = document[i].find_tables()[0].extract()\n",
        "  for j in range(1,len(text)):\n",
        "    for k in range(len(text[j])):\n",
        "      data[k].append(text[j][k])\n",
        "  i=i+1\n",
        "\n",
        "f=[1]\n",
        "for p in f:\n",
        "  for i in range(len(data[p])):\n",
        "    t=data[p][i].split(\"/\")\n",
        "    mon=[\"Jan\",\"Feb\",\"Mar\",\"Apr\",\"May\",\"Jun\",\"Jul\",\"Aug\",\"Sep\",\"Oct\",\"Nov\",\"Dec\"]\n",
        "    monn=[\"01\",\"02\",\"03\",\"04\",\"05\",\"06\",\"07\",\"08\",\"09\",\"10\",\"11\",\"12\"]\n",
        "    ing=mon.index(t[-2])\n",
        "    t[-2]=monn[ing]\n",
        "    dumb1=f\"{t[-1]}-{t[-2]}-{t[-3]}\"\n",
        "    data[p][i]=dumb1\n",
        "\n",
        "f=[6]\n",
        "for j in f:\n",
        "  for i in range(len(data[j])):\n",
        "    t=data[j][i].split(\",\")\n",
        "    l=\"\".join(t)\n",
        "    data[j][i]=l\n",
        "\n",
        "dic={}\n",
        "for i in range(len(data)):\n",
        "  dic[columns[i]]=data[i]\n",
        "display=pd.DataFrame(dic)\n",
        "\n",
        "display.to_csv('data1.csv')\n",
        "y=[]\n",
        "for i in range(len(display)):\n",
        "    x=list(display.iloc[i])\n",
        "    x=str(x)\n",
        "    x=x.replace('[','(')\n",
        "    x=x.replace(']',')')\n",
        "    y.append(x)\n",
        "files=open(\"data1.txt\",\"w\")\n",
        "for tuple in y:\n",
        "    files.write(tuple+\",\"+'\\n')\n",
        "files.close()"
      ]
    },
    {
      "cell_type": "code",
      "execution_count": 3,
      "metadata": {
        "id": "3QND_RVAKSGr"
      },
      "outputs": [],
      "source": [
        "import fitz\n",
        "import pandas as pd\n",
        "\n",
        "document=fitz.open(\"fLdxwIUYK5.pdf\")\n",
        "\n",
        "text=document[0].find_tables()[0].extract()\n",
        "columns=text[0]\n",
        "\n",
        "data=[[] for i in range(len(columns))]\n",
        "i=0\n",
        "while i<len(document):\n",
        "  text = document[i].find_tables()[0].extract()\n",
        "  for j in range(1,len(text)):\n",
        "    for k in range(len(text[j])):\n",
        "      data[k].append(text[j][k])\n",
        "  i=i+1\n",
        "\n",
        "f=[2,3,4]\n",
        "for p in f:\n",
        "  for i in range(len(data[p])):\n",
        "    t=data[p][i].split(\"/\")\n",
        "    mon=[\"Jan\",\"Feb\",\"Mar\",\"Apr\",\"May\",\"Jun\",\"Jul\",\"Aug\",\"Sep\",\"Oct\",\"Nov\",\"Dec\"]\n",
        "    monn=[\"01\",\"02\",\"03\",\"04\",\"05\",\"06\",\"07\",\"08\",\"09\",\"10\",\"11\",\"12\"]\n",
        "    ing=mon.index(t[-2])\n",
        "    t[-2]=monn[ing]\n",
        "    dumb1=f\"{t[-1]}-{t[-2]}-{t[-3]}\"\n",
        "    data[p][i]=dumb1\n",
        "\n",
        "f=[8]\n",
        "for j in f:\n",
        "  for i in range(len(data[j])):\n",
        "    t=data[j][i].split(\",\")\n",
        "    l=\"\".join(t)\n",
        "    data[j][i]=l\n",
        "\n",
        "dic={}\n",
        "for i in range(len(data)):\n",
        "  dic[columns[i]]=data[i]\n",
        "display=pd.DataFrame(dic)\n",
        "\n",
        "display.to_csv('data2.csv')\n",
        "y=[]\n",
        "for i in range(len(display)):\n",
        "    x=list(display.iloc[i])\n",
        "    x=str(x)\n",
        "    x=x.replace('[','(')\n",
        "    x=x.replace(']',')')\n",
        "    y.append(x)\n",
        "files=open(\"data2.txt\",\"w\")\n",
        "for tuple in y:\n",
        "    files.write(tuple+\",\"+'\\n')\n",
        "files.close()"
      ]
    }
  ],
  "metadata": {
    "colab": {
      "provenance": []
    },
    "kernelspec": {
      "display_name": "Python 3",
      "name": "python3"
    },
    "language_info": {
      "codemirror_mode": {
        "name": "ipython",
        "version": 3
      },
      "file_extension": ".py",
      "mimetype": "text/x-python",
      "name": "python",
      "nbconvert_exporter": "python",
      "pygments_lexer": "ipython3",
      "version": "3.12.0"
    }
  },
  "nbformat": 4,
  "nbformat_minor": 0
}
